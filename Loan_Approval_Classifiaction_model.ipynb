{
  "nbformat": 4,
  "nbformat_minor": 0,
  "metadata": {
    "colab": {
      "provenance": []
    },
    "kernelspec": {
      "name": "python3",
      "display_name": "Python 3"
    },
    "language_info": {
      "name": "python"
    }
  },
  "cells": [
    {
      "cell_type": "code",
      "execution_count": null,
      "metadata": {
        "id": "Q9h5IVYjqtcm"
      },
      "outputs": [],
      "source": [
        "import numpy as np\n",
        "import pandas as pd\n"
      ]
    },
    {
      "cell_type": "code",
      "source": [
        "from sklearn.preprocessing import LabelEncoder\n",
        "\n",
        "le_appr = LabelEncoder()\n",
        "le_edu = LabelEncoder()\n",
        "le_job = LabelEncoder()\n",
        "le_mar = LabelEncoder()\n",
        "le_hous = LabelEncoder()\n",
        "\n",
        "data = pd.read_csv('Credit.csv')\n",
        "print(data.columns)\n",
        "\n",
        "data['approval'] = le_appr.fit_transform(data['approval'])\n",
        "data['marital'] = le_mar.fit_transform(data['marital'])\n",
        "data['education'] = le_edu.fit_transform(data['education'])\n",
        "data['housing'] = le_hous.fit_transform(data['housing'])\n",
        "data['job'] = le_job.fit_transform(data['job'])\n",
        "\n",
        "\n",
        "\n",
        "classes = [le_appr, le_mar , le_edu, le_hous, le_job]\n",
        "for cls in classes:\n",
        "  print(cls.classes_)\n",
        "  for class_index, class_label in enumerate(cls.classes_):\n",
        "    print(f\"{class_label} -> {class_index}\")\n",
        "  print()\n",
        "\n",
        "\n",
        "print(data.iloc[:10, :])\n",
        "\n",
        "\n",
        "\n"
      ],
      "metadata": {
        "colab": {
          "base_uri": "https://localhost:8080/"
        },
        "id": "XYUVCoqvxgUI",
        "outputId": "5e8b9adf-636a-4434-95c9-79a072e014f7"
      },
      "execution_count": null,
      "outputs": [
        {
          "output_type": "stream",
          "name": "stdout",
          "text": [
            "Index(['age', 'job', 'marital', 'education', 'balance', 'housing', 'duration',\n",
            "       'campaign', 'approval'],\n",
            "      dtype='object')\n",
            "['no' 'yes']\n",
            "no -> 0\n",
            "yes -> 1\n",
            "\n",
            "['divorced' 'married' 'single' nan]\n",
            "divorced -> 0\n",
            "married -> 1\n",
            "single -> 2\n",
            "nan -> 3\n",
            "\n",
            "['primary' 'secondary' 'tertiary' 'unknown' nan]\n",
            "primary -> 0\n",
            "secondary -> 1\n",
            "tertiary -> 2\n",
            "unknown -> 3\n",
            "nan -> 4\n",
            "\n",
            "['no' 'yes' nan]\n",
            "no -> 0\n",
            "yes -> 1\n",
            "nan -> 2\n",
            "\n",
            "['admin.' 'blue-collar' 'entrepreneur' 'housemaid' 'management' 'retired'\n",
            " 'self-employed' 'services' 'student' 'technician' 'unemployed' 'unknown'\n",
            " nan]\n",
            "admin. -> 0\n",
            "blue-collar -> 1\n",
            "entrepreneur -> 2\n",
            "housemaid -> 3\n",
            "management -> 4\n",
            "retired -> 5\n",
            "self-employed -> 6\n",
            "services -> 7\n",
            "student -> 8\n",
            "technician -> 9\n",
            "unemployed -> 10\n",
            "unknown -> 11\n",
            "nan -> 12\n",
            "\n",
            "    age  job  marital  education  balance  housing  duration  campaign  \\\n",
            "0  30.0   10        1          0     1787        0      79.0         1   \n",
            "1  33.0    7        1          1     4789        1     220.0         1   \n",
            "2  35.0    4        2          2     1350        1     185.0         1   \n",
            "3  30.0    4        1          2     1476        1     199.0         4   \n",
            "4  59.0    1        1          1        0        1     226.0         1   \n",
            "5  35.0    4        2          2      747        0     141.0         2   \n",
            "6  36.0    6        1          2      307        1     341.0         1   \n",
            "7  39.0    9        1          1      147        1     151.0         2   \n",
            "8  41.0    2        1          2      221        1      57.0         2   \n",
            "9  43.0    7        1          0      -88        1     313.0         1   \n",
            "\n",
            "   approval  \n",
            "0         0  \n",
            "1         0  \n",
            "2         0  \n",
            "3         0  \n",
            "4         0  \n",
            "5         0  \n",
            "6         0  \n",
            "7         0  \n",
            "8         0  \n",
            "9         0  \n"
          ]
        }
      ]
    },
    {
      "cell_type": "code",
      "source": [
        "y = data['approval']\n",
        "X = data.drop(columns=['approval'])\n",
        "print(X.columns)\n",
        "print(X.iloc[:10, :])\n",
        "# count = (X['job'] == 'entrepreneur').sum() # Use transformed value\n",
        "# print(count)"
      ],
      "metadata": {
        "id": "4OGmS8gasdKP",
        "colab": {
          "base_uri": "https://localhost:8080/"
        },
        "outputId": "30899a98-5604-4f4a-e4d0-a1c48964aac8"
      },
      "execution_count": null,
      "outputs": [
        {
          "output_type": "stream",
          "name": "stdout",
          "text": [
            "Index(['age', 'job', 'marital', 'education', 'balance', 'housing', 'duration',\n",
            "       'campaign'],\n",
            "      dtype='object')\n",
            "    age  job  marital  education  balance  housing  duration  campaign\n",
            "0  30.0   10        1          0     1787        0      79.0         1\n",
            "1  33.0    7        1          1     4789        1     220.0         1\n",
            "2  35.0    4        2          2     1350        1     185.0         1\n",
            "3  30.0    4        1          2     1476        1     199.0         4\n",
            "4  59.0    1        1          1        0        1     226.0         1\n",
            "5  35.0    4        2          2      747        0     141.0         2\n",
            "6  36.0    6        1          2      307        1     341.0         1\n",
            "7  39.0    9        1          1      147        1     151.0         2\n",
            "8  41.0    2        1          2      221        1      57.0         2\n",
            "9  43.0    7        1          0      -88        1     313.0         1\n"
          ]
        }
      ]
    },
    {
      "cell_type": "code",
      "source": [
        "from sklearn.tree import DecisionTreeClassifier\n",
        "from sklearn.model_selection import train_test_split\n",
        "from sklearn.metrics import accuracy_score\n",
        "\n",
        "\n",
        "X_train, X_test, y_train, y_test = train_test_split(X, y, test_size=0.2, random_state=42)\n",
        "model = DecisionTreeClassifier()\n",
        "model.fit(X_train, y_train)\n",
        "y_pred = model.predict(X_test)\n",
        "accuracy = accuracy_score(y_test, y_pred)\n",
        "print(\"Accuracy:\", accuracy)\n"
      ],
      "metadata": {
        "id": "w0_Aa2fJrbpo",
        "colab": {
          "base_uri": "https://localhost:8080/"
        },
        "outputId": "c07d73b2-ac6e-4533-d938-0fd6a2e17616"
      },
      "execution_count": null,
      "outputs": [
        {
          "output_type": "stream",
          "name": "stdout",
          "text": [
            "Accuracy: 0.8607734806629834\n"
          ]
        }
      ]
    },
    {
      "cell_type": "code",
      "source": [
        "# SAMPLE TEST\n",
        "\n",
        "test__X = [[25.0, 2, 1, 2, 221, 0, 57.0, 2]]\n",
        "pred__y = model.predict(test__X)\n",
        "print(pred__y)"
      ],
      "metadata": {
        "colab": {
          "base_uri": "https://localhost:8080/"
        },
        "id": "5vVeg2OR98vH",
        "outputId": "5740d095-e793-4cb5-8d40-7665f6c2a641"
      },
      "execution_count": null,
      "outputs": [
        {
          "output_type": "stream",
          "name": "stdout",
          "text": [
            "[0]\n"
          ]
        },
        {
          "output_type": "stream",
          "name": "stderr",
          "text": [
            "/usr/local/lib/python3.10/dist-packages/sklearn/base.py:465: UserWarning: X does not have valid feature names, but DecisionTreeClassifier was fitted with feature names\n",
            "  warnings.warn(\n"
          ]
        }
      ]
    }
  ]
}